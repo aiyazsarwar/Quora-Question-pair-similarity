{
 "cells": [
  {
   "cell_type": "code",
   "execution_count": 4,
   "metadata": {
    "colab": {},
    "colab_type": "code",
    "id": "6VXPfRp-tARR",
    "outputId": "6c27acaf-2c6a-467f-fd7a-68efce98e30b"
   },
   "outputs": [],
   "source": [
    "import pandas as pd\n",
    "import matplotlib.pyplot as plt\n",
    "import re\n",
    "import time\n",
    "import warnings\n",
    "import sqlite3\n",
    "from sqlalchemy import create_engine # database connection\n",
    "import csv\n",
    "import os\n",
    "warnings.filterwarnings(\"ignore\")\n",
    "import datetime as dt\n",
    "import numpy as np\n",
    "from nltk.corpus import stopwords\n",
    "from sklearn.decomposition import TruncatedSVD\n",
    "from sklearn.preprocessing import normalize\n",
    "from sklearn.feature_extraction.text import CountVectorizer\n",
    "from sklearn.manifold import TSNE\n",
    "import seaborn as sns\n",
    "from sklearn.neighbors import KNeighborsClassifier\n",
    "from sklearn.metrics import confusion_matrix\n",
    "from sklearn.metrics.classification import accuracy_score, log_loss\n",
    "from sklearn.feature_extraction.text import TfidfVectorizer\n",
    "from collections import Counter\n",
    "from scipy.sparse import hstack\n",
    "from sklearn.multiclass import OneVsRestClassifier\n",
    "from sklearn.svm import SVC\n",
    "from sklearn.model_selection import StratifiedKFold \n",
    "from collections import Counter, defaultdict\n",
    "from sklearn.calibration import CalibratedClassifierCV\n",
    "from sklearn.naive_bayes import MultinomialNB\n",
    "from sklearn.naive_bayes import GaussianNB\n",
    "from sklearn.model_selection import train_test_split\n",
    "from sklearn.model_selection import GridSearchCV\n",
    "import math\n",
    "from sklearn.metrics import normalized_mutual_info_score\n",
    "from sklearn.ensemble import RandomForestClassifier\n",
    "\n",
    "\n",
    "\n",
    "from sklearn.model_selection import cross_val_score\n",
    "from sklearn.linear_model import SGDClassifier\n",
    "from mlxtend.classifier import StackingClassifier\n",
    "\n",
    "from sklearn import model_selection\n",
    "from sklearn.linear_model import LogisticRegression\n",
    "from sklearn.metrics import precision_recall_curve, auc, roc_curve"
   ]
  },
  {
   "cell_type": "code",
   "execution_count": 5,
   "metadata": {},
   "outputs": [],
   "source": [
    "#taking all rows of data from our final_features_train file as running for all data is throwing memory error\n",
    "if os.path.isfile('final_features_train.csv'):\n",
    "    final_features_train = pd.read_csv('final_features_train.csv') \n",
    "else:\n",
    "    print('please train Q_mean_W2V python file for 100k datapoints to generate features')\n",
    "    \n",
    "    "
   ]
  },
  {
   "cell_type": "code",
   "execution_count": 6,
   "metadata": {},
   "outputs": [
    {
     "data": {
      "text/html": [
       "<div>\n",
       "<style scoped>\n",
       "    .dataframe tbody tr th:only-of-type {\n",
       "        vertical-align: middle;\n",
       "    }\n",
       "\n",
       "    .dataframe tbody tr th {\n",
       "        vertical-align: top;\n",
       "    }\n",
       "\n",
       "    .dataframe thead th {\n",
       "        text-align: right;\n",
       "    }\n",
       "</style>\n",
       "<table border=\"1\" class=\"dataframe\">\n",
       "  <thead>\n",
       "    <tr style=\"text-align: right;\">\n",
       "      <th></th>\n",
       "      <th>Unnamed: 0</th>\n",
       "      <th>id</th>\n",
       "      <th>is_duplicate</th>\n",
       "      <th>cwc_min</th>\n",
       "      <th>cwc_max</th>\n",
       "      <th>csc_min</th>\n",
       "      <th>csc_max</th>\n",
       "      <th>ctc_min</th>\n",
       "      <th>ctc_max</th>\n",
       "      <th>last_word_eq</th>\n",
       "      <th>...</th>\n",
       "      <th>86_y</th>\n",
       "      <th>87_y</th>\n",
       "      <th>88_y</th>\n",
       "      <th>89_y</th>\n",
       "      <th>90_y</th>\n",
       "      <th>91_y</th>\n",
       "      <th>92_y</th>\n",
       "      <th>93_y</th>\n",
       "      <th>94_y</th>\n",
       "      <th>95_y</th>\n",
       "    </tr>\n",
       "  </thead>\n",
       "  <tbody>\n",
       "    <tr>\n",
       "      <td>0</td>\n",
       "      <td>0</td>\n",
       "      <td>0</td>\n",
       "      <td>0</td>\n",
       "      <td>0.999980</td>\n",
       "      <td>0.833319</td>\n",
       "      <td>0.999983</td>\n",
       "      <td>0.999983</td>\n",
       "      <td>0.916659</td>\n",
       "      <td>0.785709</td>\n",
       "      <td>0.0</td>\n",
       "      <td>...</td>\n",
       "      <td>-72.718146</td>\n",
       "      <td>-37.148066</td>\n",
       "      <td>-31.490608</td>\n",
       "      <td>94.141156</td>\n",
       "      <td>-44.950640</td>\n",
       "      <td>-34.465247</td>\n",
       "      <td>-76.634255</td>\n",
       "      <td>100.025111</td>\n",
       "      <td>51.065072</td>\n",
       "      <td>-17.637276</td>\n",
       "    </tr>\n",
       "    <tr>\n",
       "      <td>1</td>\n",
       "      <td>1</td>\n",
       "      <td>1</td>\n",
       "      <td>0</td>\n",
       "      <td>0.799984</td>\n",
       "      <td>0.399996</td>\n",
       "      <td>0.749981</td>\n",
       "      <td>0.599988</td>\n",
       "      <td>0.699993</td>\n",
       "      <td>0.466664</td>\n",
       "      <td>0.0</td>\n",
       "      <td>...</td>\n",
       "      <td>6.585885</td>\n",
       "      <td>-59.548013</td>\n",
       "      <td>-16.186697</td>\n",
       "      <td>0.061812</td>\n",
       "      <td>26.350538</td>\n",
       "      <td>164.450202</td>\n",
       "      <td>-58.135197</td>\n",
       "      <td>189.703480</td>\n",
       "      <td>122.129779</td>\n",
       "      <td>56.350818</td>\n",
       "    </tr>\n",
       "    <tr>\n",
       "      <td>2</td>\n",
       "      <td>2</td>\n",
       "      <td>2</td>\n",
       "      <td>0</td>\n",
       "      <td>0.399992</td>\n",
       "      <td>0.333328</td>\n",
       "      <td>0.399992</td>\n",
       "      <td>0.249997</td>\n",
       "      <td>0.399996</td>\n",
       "      <td>0.285712</td>\n",
       "      <td>0.0</td>\n",
       "      <td>...</td>\n",
       "      <td>-26.912855</td>\n",
       "      <td>-19.578777</td>\n",
       "      <td>75.006603</td>\n",
       "      <td>23.602108</td>\n",
       "      <td>-92.495243</td>\n",
       "      <td>-178.372608</td>\n",
       "      <td>-91.454193</td>\n",
       "      <td>20.879006</td>\n",
       "      <td>22.670340</td>\n",
       "      <td>49.185106</td>\n",
       "    </tr>\n",
       "    <tr>\n",
       "      <td>3</td>\n",
       "      <td>3</td>\n",
       "      <td>3</td>\n",
       "      <td>0</td>\n",
       "      <td>0.000000</td>\n",
       "      <td>0.000000</td>\n",
       "      <td>0.000000</td>\n",
       "      <td>0.000000</td>\n",
       "      <td>0.000000</td>\n",
       "      <td>0.000000</td>\n",
       "      <td>0.0</td>\n",
       "      <td>...</td>\n",
       "      <td>-17.692158</td>\n",
       "      <td>29.719559</td>\n",
       "      <td>49.373642</td>\n",
       "      <td>27.600317</td>\n",
       "      <td>25.019165</td>\n",
       "      <td>-33.121244</td>\n",
       "      <td>-3.266130</td>\n",
       "      <td>-14.854872</td>\n",
       "      <td>4.196988</td>\n",
       "      <td>7.882364</td>\n",
       "    </tr>\n",
       "    <tr>\n",
       "      <td>4</td>\n",
       "      <td>4</td>\n",
       "      <td>4</td>\n",
       "      <td>0</td>\n",
       "      <td>0.399992</td>\n",
       "      <td>0.199998</td>\n",
       "      <td>0.999950</td>\n",
       "      <td>0.666644</td>\n",
       "      <td>0.571420</td>\n",
       "      <td>0.307690</td>\n",
       "      <td>0.0</td>\n",
       "      <td>...</td>\n",
       "      <td>36.232958</td>\n",
       "      <td>47.269621</td>\n",
       "      <td>-49.664346</td>\n",
       "      <td>45.108631</td>\n",
       "      <td>39.767184</td>\n",
       "      <td>-33.761699</td>\n",
       "      <td>-98.386384</td>\n",
       "      <td>22.079260</td>\n",
       "      <td>68.230127</td>\n",
       "      <td>21.040859</td>\n",
       "    </tr>\n",
       "  </tbody>\n",
       "</table>\n",
       "<p>5 rows × 221 columns</p>\n",
       "</div>"
      ],
      "text/plain": [
       "   Unnamed: 0  id  is_duplicate   cwc_min   cwc_max   csc_min   csc_max  \\\n",
       "0           0   0             0  0.999980  0.833319  0.999983  0.999983   \n",
       "1           1   1             0  0.799984  0.399996  0.749981  0.599988   \n",
       "2           2   2             0  0.399992  0.333328  0.399992  0.249997   \n",
       "3           3   3             0  0.000000  0.000000  0.000000  0.000000   \n",
       "4           4   4             0  0.399992  0.199998  0.999950  0.666644   \n",
       "\n",
       "    ctc_min   ctc_max  last_word_eq  ...       86_y       87_y       88_y  \\\n",
       "0  0.916659  0.785709           0.0  ... -72.718146 -37.148066 -31.490608   \n",
       "1  0.699993  0.466664           0.0  ...   6.585885 -59.548013 -16.186697   \n",
       "2  0.399996  0.285712           0.0  ... -26.912855 -19.578777  75.006603   \n",
       "3  0.000000  0.000000           0.0  ... -17.692158  29.719559  49.373642   \n",
       "4  0.571420  0.307690           0.0  ...  36.232958  47.269621 -49.664346   \n",
       "\n",
       "        89_y       90_y        91_y       92_y        93_y        94_y  \\\n",
       "0  94.141156 -44.950640  -34.465247 -76.634255  100.025111   51.065072   \n",
       "1   0.061812  26.350538  164.450202 -58.135197  189.703480  122.129779   \n",
       "2  23.602108 -92.495243 -178.372608 -91.454193   20.879006   22.670340   \n",
       "3  27.600317  25.019165  -33.121244  -3.266130  -14.854872    4.196988   \n",
       "4  45.108631  39.767184  -33.761699 -98.386384   22.079260   68.230127   \n",
       "\n",
       "        95_y  \n",
       "0 -17.637276  \n",
       "1  56.350818  \n",
       "2  49.185106  \n",
       "3   7.882364  \n",
       "4  21.040859  \n",
       "\n",
       "[5 rows x 221 columns]"
      ]
     },
     "execution_count": 6,
     "metadata": {},
     "output_type": "execute_result"
    }
   ],
   "source": [
    "final_features_train.head()"
   ]
  },
  {
   "cell_type": "markdown",
   "metadata": {
    "colab_type": "text",
    "id": "ZihvUPvHtARd"
   },
   "source": [
    "<h1>4. Machine Learning Models </h1>"
   ]
  },
  {
   "cell_type": "markdown",
   "metadata": {
    "colab_type": "text",
    "id": "CtN9VBPutARf"
   },
   "source": [
    "<h2> 4.1 Reading data from file and storing into sql table </h2>"
   ]
  },
  {
   "cell_type": "code",
   "execution_count": 7,
   "metadata": {
    "colab": {},
    "colab_type": "code",
    "id": "owBQdjY1tARh"
   },
   "outputs": [
    {
     "name": "stdout",
     "output_type": "stream",
     "text": [
      "14000 rows\n",
      "28000 rows\n",
      "42000 rows\n",
      "56000 rows\n",
      "70000 rows\n",
      "84000 rows\n"
     ]
    }
   ],
   "source": [
    "#Creating train db file from csv\n",
    "if not os.path.isfile('train_70k.db'):\n",
    "    disk_engine = create_engine('sqlite:///train_70k.db')\n",
    "    start = dt.datetime.now()\n",
    "    chunksize = 14000\n",
    "    j = 0\n",
    "    index_start = 1\n",
    "    for df in pd.read_csv('final_features_train.csv', names=['Unnamed: 0','id','is_duplicate','cwc_min','cwc_max','csc_min','csc_max','ctc_min','ctc_max','last_word_eq','first_word_eq','abs_len_diff','mean_len','token_set_ratio','token_sort_ratio','fuzz_ratio','fuzz_partial_ratio','longest_substr_ratio','freq_qid1','freq_qid2','q1len','q2len','q1_n_words','q2_n_words','word_Common','word_Total','word_share','freq_q1+q2','freq_q1-q2','0_x','1_x','2_x','3_x','4_x','5_x','6_x','7_x','8_x','9_x','10_x','11_x','12_x','13_x','14_x','15_x','16_x','17_x','18_x','19_x','20_x','21_x','22_x','23_x','24_x','25_x','26_x','27_x','28_x','29_x','30_x','31_x','32_x','33_x','34_x','35_x','36_x','37_x','38_x','39_x','40_x','41_x','42_x','43_x','44_x','45_x','46_x','47_x','48_x','49_x','50_x','51_x','52_x','53_x','54_x','55_x','56_x','57_x','58_x','59_x','60_x','61_x','62_x','63_x','64_x','65_x','66_x','67_x','68_x','69_x','70_x','71_x','72_x','73_x','74_x','75_x','76_x','77_x','78_x','79_x','80_x','81_x','82_x','83_x','84_x','85_x','86_x','87_x','88_x','89_x','90_x','91_x','92_x','93_x','94_x','95_x','0_y','1_y','2_y','3_y','4_y','5_y','6_y','7_y','8_y','9_y','10_y','11_y','12_y','13_y','14_y','15_y','16_y','17_y','18_y','19_y','20_y','21_y','22_y','23_y','24_y','25_y','26_y','27_y','28_y','29_y','30_y','31_y','32_y','33_y','34_y','35_y','36_y','37_y','38_y','39_y','40_y','41_y','42_y','43_y','44_y','45_y','46_y','47_y','48_y','49_y','50_y','51_y','52_y','53_y','54_y','55_y','56_y','57_y','58_y','59_y','60_y','61_y','62_y','63_y','64_y','65_y','66_y','67_y','68_y','69_y','70_y','71_y','72_y','73_y','74_y','75_y','76_y','77_y','78_y','79_y','80_y','81_y','82_y','83_y','84_y','85_y','86_y','87_y','88_y','89_y','90_y','91_y','92_y','93_y','94_y','95_y'], chunksize=chunksize, iterator=True, encoding='utf-8', ):\n",
    "        df.index += index_start\n",
    "        j+=1\n",
    "        print('{} rows'.format(j*chunksize))\n",
    "        df.to_sql('data_train', disk_engine, if_exists='append')\n",
    "        index_start = df.index[-1] + 1        \n",
    "else:\n",
    "    print('File already present in the drive')"
   ]
  },
  {
   "cell_type": "code",
   "execution_count": 8,
   "metadata": {},
   "outputs": [
    {
     "name": "stdout",
     "output_type": "stream",
     "text": [
      "10000 rows\n",
      "20000 rows\n",
      "30000 rows\n",
      "40000 rows\n"
     ]
    }
   ],
   "source": [
    "#Creating db file from test csv\n",
    "if not os.path.isfile('test_30k.db'):\n",
    "    disk_engine = create_engine('sqlite:///test_30k.db')\n",
    "    start = dt.datetime.now()\n",
    "    chunksize = 10000\n",
    "    j = 0\n",
    "    index_start = 1\n",
    "    for df in pd.read_csv('final_features_test.csv', names=['Unnamed: 0','id','is_duplicate','cwc_min','cwc_max','csc_min','csc_max','ctc_min','ctc_max','last_word_eq','first_word_eq','abs_len_diff','mean_len','token_set_ratio','token_sort_ratio','fuzz_ratio','fuzz_partial_ratio','longest_substr_ratio','freq_qid1','freq_qid2','q1len','q2len','q1_n_words','q2_n_words','word_Common','word_Total','word_share','freq_q1+q2','freq_q1-q2','0_x','1_x','2_x','3_x','4_x','5_x','6_x','7_x','8_x','9_x','10_x','11_x','12_x','13_x','14_x','15_x','16_x','17_x','18_x','19_x','20_x','21_x','22_x','23_x','24_x','25_x','26_x','27_x','28_x','29_x','30_x','31_x','32_x','33_x','34_x','35_x','36_x','37_x','38_x','39_x','40_x','41_x','42_x','43_x','44_x','45_x','46_x','47_x','48_x','49_x','50_x','51_x','52_x','53_x','54_x','55_x','56_x','57_x','58_x','59_x','60_x','61_x','62_x','63_x','64_x','65_x','66_x','67_x','68_x','69_x','70_x','71_x','72_x','73_x','74_x','75_x','76_x','77_x','78_x','79_x','80_x','81_x','82_x','83_x','84_x','85_x','86_x','87_x','88_x','89_x','90_x','91_x','92_x','93_x','94_x','95_x','0_y','1_y','2_y','3_y','4_y','5_y','6_y','7_y','8_y','9_y','10_y','11_y','12_y','13_y','14_y','15_y','16_y','17_y','18_y','19_y','20_y','21_y','22_y','23_y','24_y','25_y','26_y','27_y','28_y','29_y','30_y','31_y','32_y','33_y','34_y','35_y','36_y','37_y','38_y','39_y','40_y','41_y','42_y','43_y','44_y','45_y','46_y','47_y','48_y','49_y','50_y','51_y','52_y','53_y','54_y','55_y','56_y','57_y','58_y','59_y','60_y','61_y','62_y','63_y','64_y','65_y','66_y','67_y','68_y','69_y','70_y','71_y','72_y','73_y','74_y','75_y','76_y','77_y','78_y','79_y','80_y','81_y','82_y','83_y','84_y','85_y','86_y','87_y','88_y','89_y','90_y','91_y','92_y','93_y','94_y','95_y'], chunksize=chunksize, iterator=True, encoding='utf-8', ):\n",
    "        df.index += index_start\n",
    "        j+=1\n",
    "        print('{} rows'.format(j*chunksize))\n",
    "        df.to_sql('data_test', disk_engine, if_exists='append')\n",
    "        index_start = df.index[-1] + 1        \n",
    "else:\n",
    "    print('File already present in the drive')"
   ]
  },
  {
   "cell_type": "code",
   "execution_count": 9,
   "metadata": {
    "colab": {},
    "colab_type": "code",
    "id": "4hpD3aBktARn"
   },
   "outputs": [],
   "source": [
    "#http://www.sqlitetutorial.net/sqlite-python/create-tables/\n",
    "def create_connection(db_file):\n",
    "    \"\"\" create a database connection to the SQLite database\n",
    "        specified by db_file\n",
    "    :param db_file: database file\n",
    "    :return: Connection object or None\n",
    "    \"\"\"\n",
    "    try:\n",
    "        conn = sqlite3.connect(db_file)\n",
    "        return conn\n",
    "    except Error as e:\n",
    "        print(e)\n",
    " \n",
    "    return None\n",
    "\n",
    "\n",
    "def checkTableExists(dbcon):\n",
    "    cursr = dbcon.cursor()\n",
    "    str = \"select name from sqlite_master where type='table'\"\n",
    "    table_names = cursr.execute(str)\n",
    "    print(\"Tables in the databse:\")\n",
    "    tables =table_names.fetchall() \n",
    "    print(tables[0][0])\n",
    "    return(len(tables))"
   ]
  },
  {
   "cell_type": "code",
   "execution_count": 23,
   "metadata": {
    "colab": {},
    "colab_type": "code",
    "id": "nR8ZIUnttARs",
    "outputId": "810fb3fb-7da2-4b78-9e29-9edabbf68cf6"
   },
   "outputs": [
    {
     "name": "stdout",
     "output_type": "stream",
     "text": [
      "Tables in the databse:\n",
      "data_train\n"
     ]
    }
   ],
   "source": [
    "read_db = 'train_70k.db'\n",
    "conn_r = create_connection(read_db)\n",
    "checkTableExists(conn_r)\n",
    "conn_r.close()"
   ]
  },
  {
   "cell_type": "code",
   "execution_count": 24,
   "metadata": {
    "colab": {},
    "colab_type": "code",
    "id": "SZq5gaaztARy"
   },
   "outputs": [],
   "source": [
    "#try to sample data according to the computing power you have\n",
    "if os.path.isfile(read_db):\n",
    "    conn_r = create_connection(read_db)\n",
    "    if conn_r is not None:\n",
    "        # for selecting first 1M rows\n",
    "        # data = pd.read_sql_query(\"\"\"SELECT * FROM data LIMIT 100001;\"\"\", conn_r)\n",
    "        \n",
    "        # for selecting random points\n",
    "        data_train = pd.read_sql_query(\"SELECT * From data_train;\", conn_r)\n",
    "        conn_r.commit()\n",
    "        conn_r.close()"
   ]
  },
  {
   "cell_type": "code",
   "execution_count": 25,
   "metadata": {
    "colab": {},
    "colab_type": "code",
    "id": "ZkeBKktKtAR3"
   },
   "outputs": [],
   "source": [
    "# remove the first row \n",
    "data_train.drop(data_train.index[0], inplace=True)\n",
    "y_true = data_train['is_duplicate']\n",
    "data_train.drop(['Unnamed: 0', 'id','is_duplicate','index'], axis=1, inplace=True)"
   ]
  },
  {
   "cell_type": "code",
   "execution_count": 26,
   "metadata": {
    "colab": {},
    "colab_type": "code",
    "id": "QKSenpsmtAR9",
    "outputId": "81d890ce-df79-4402-9324-84817dbd5a7d"
   },
   "outputs": [
    {
     "data": {
      "text/html": [
       "<div>\n",
       "<style scoped>\n",
       "    .dataframe tbody tr th:only-of-type {\n",
       "        vertical-align: middle;\n",
       "    }\n",
       "\n",
       "    .dataframe tbody tr th {\n",
       "        vertical-align: top;\n",
       "    }\n",
       "\n",
       "    .dataframe thead th {\n",
       "        text-align: right;\n",
       "    }\n",
       "</style>\n",
       "<table border=\"1\" class=\"dataframe\">\n",
       "  <thead>\n",
       "    <tr style=\"text-align: right;\">\n",
       "      <th></th>\n",
       "      <th>cwc_min</th>\n",
       "      <th>cwc_max</th>\n",
       "      <th>csc_min</th>\n",
       "      <th>csc_max</th>\n",
       "      <th>ctc_min</th>\n",
       "      <th>ctc_max</th>\n",
       "      <th>last_word_eq</th>\n",
       "      <th>first_word_eq</th>\n",
       "      <th>abs_len_diff</th>\n",
       "      <th>mean_len</th>\n",
       "      <th>...</th>\n",
       "      <th>86_y</th>\n",
       "      <th>87_y</th>\n",
       "      <th>88_y</th>\n",
       "      <th>89_y</th>\n",
       "      <th>90_y</th>\n",
       "      <th>91_y</th>\n",
       "      <th>92_y</th>\n",
       "      <th>93_y</th>\n",
       "      <th>94_y</th>\n",
       "      <th>95_y</th>\n",
       "    </tr>\n",
       "  </thead>\n",
       "  <tbody>\n",
       "    <tr>\n",
       "      <td>1</td>\n",
       "      <td>0.999980000399992</td>\n",
       "      <td>0.8333194446759221</td>\n",
       "      <td>0.9999833336111064</td>\n",
       "      <td>0.9999833336111064</td>\n",
       "      <td>0.9166590278414348</td>\n",
       "      <td>0.7857086735094749</td>\n",
       "      <td>0.0</td>\n",
       "      <td>1.0</td>\n",
       "      <td>2.0</td>\n",
       "      <td>13.0</td>\n",
       "      <td>...</td>\n",
       "      <td>-72.71814632415771</td>\n",
       "      <td>-37.148065984249115</td>\n",
       "      <td>-31.49060845375061</td>\n",
       "      <td>94.14115607738495</td>\n",
       "      <td>-44.95064043998718</td>\n",
       "      <td>-34.465246595442295</td>\n",
       "      <td>-76.63425534963608</td>\n",
       "      <td>100.02511137723923</td>\n",
       "      <td>51.06507237255573</td>\n",
       "      <td>-17.63727593421936</td>\n",
       "    </tr>\n",
       "    <tr>\n",
       "      <td>2</td>\n",
       "      <td>0.7999840003199936</td>\n",
       "      <td>0.3999960000399996</td>\n",
       "      <td>0.7499812504687383</td>\n",
       "      <td>0.5999880002399952</td>\n",
       "      <td>0.6999930000699993</td>\n",
       "      <td>0.4666635555762962</td>\n",
       "      <td>0.0</td>\n",
       "      <td>1.0</td>\n",
       "      <td>5.0</td>\n",
       "      <td>12.5</td>\n",
       "      <td>...</td>\n",
       "      <td>6.585885405540466</td>\n",
       "      <td>-59.548013269901276</td>\n",
       "      <td>-16.186697378754616</td>\n",
       "      <td>0.06181211769580841</td>\n",
       "      <td>26.350537687540054</td>\n",
       "      <td>164.4502021074295</td>\n",
       "      <td>-58.13519740104675</td>\n",
       "      <td>189.70348000526428</td>\n",
       "      <td>122.12977933883667</td>\n",
       "      <td>56.350818037986755</td>\n",
       "    </tr>\n",
       "    <tr>\n",
       "      <td>3</td>\n",
       "      <td>0.3999920001599968</td>\n",
       "      <td>0.3333277778703688</td>\n",
       "      <td>0.3999920001599968</td>\n",
       "      <td>0.24999687503906198</td>\n",
       "      <td>0.3999960000399996</td>\n",
       "      <td>0.28571224491253633</td>\n",
       "      <td>0.0</td>\n",
       "      <td>1.0</td>\n",
       "      <td>4.0</td>\n",
       "      <td>12.0</td>\n",
       "      <td>...</td>\n",
       "      <td>-26.91285538673401</td>\n",
       "      <td>-19.578776761889458</td>\n",
       "      <td>75.00660336017609</td>\n",
       "      <td>23.60210806131363</td>\n",
       "      <td>-92.49524259567261</td>\n",
       "      <td>-178.37260788679123</td>\n",
       "      <td>-91.4541928768158</td>\n",
       "      <td>20.879005789756775</td>\n",
       "      <td>22.670340299606323</td>\n",
       "      <td>49.18510577455163</td>\n",
       "    </tr>\n",
       "    <tr>\n",
       "      <td>4</td>\n",
       "      <td>0.0</td>\n",
       "      <td>0.0</td>\n",
       "      <td>0.0</td>\n",
       "      <td>0.0</td>\n",
       "      <td>0.0</td>\n",
       "      <td>0.0</td>\n",
       "      <td>0.0</td>\n",
       "      <td>0.0</td>\n",
       "      <td>2.0</td>\n",
       "      <td>12.0</td>\n",
       "      <td>...</td>\n",
       "      <td>-17.692158341407776</td>\n",
       "      <td>29.719559133052826</td>\n",
       "      <td>49.37364239990711</td>\n",
       "      <td>27.600317001342773</td>\n",
       "      <td>25.0191650390625</td>\n",
       "      <td>-33.12124443054199</td>\n",
       "      <td>-3.2661298513412476</td>\n",
       "      <td>-14.85487174987793</td>\n",
       "      <td>4.196987628936768</td>\n",
       "      <td>7.882364273071289</td>\n",
       "    </tr>\n",
       "    <tr>\n",
       "      <td>5</td>\n",
       "      <td>0.3999920001599968</td>\n",
       "      <td>0.19999800001999984</td>\n",
       "      <td>0.9999500024998748</td>\n",
       "      <td>0.6666444451851604</td>\n",
       "      <td>0.5714204082798817</td>\n",
       "      <td>0.3076899408466089</td>\n",
       "      <td>0.0</td>\n",
       "      <td>1.0</td>\n",
       "      <td>6.0</td>\n",
       "      <td>10.0</td>\n",
       "      <td>...</td>\n",
       "      <td>36.23295804485679</td>\n",
       "      <td>47.26962113380432</td>\n",
       "      <td>-49.66434621810913</td>\n",
       "      <td>45.108630895614624</td>\n",
       "      <td>39.767184406518936</td>\n",
       "      <td>-33.761698722839355</td>\n",
       "      <td>-98.38638353347778</td>\n",
       "      <td>22.07925969362259</td>\n",
       "      <td>68.23012709617615</td>\n",
       "      <td>21.04085874557495</td>\n",
       "    </tr>\n",
       "  </tbody>\n",
       "</table>\n",
       "<p>5 rows × 218 columns</p>\n",
       "</div>"
      ],
      "text/plain": [
       "              cwc_min              cwc_max             csc_min  \\\n",
       "1   0.999980000399992   0.8333194446759221  0.9999833336111064   \n",
       "2  0.7999840003199936   0.3999960000399996  0.7499812504687383   \n",
       "3  0.3999920001599968   0.3333277778703688  0.3999920001599968   \n",
       "4                 0.0                  0.0                 0.0   \n",
       "5  0.3999920001599968  0.19999800001999984  0.9999500024998748   \n",
       "\n",
       "               csc_max             ctc_min              ctc_max last_word_eq  \\\n",
       "1   0.9999833336111064  0.9166590278414348   0.7857086735094749          0.0   \n",
       "2   0.5999880002399952  0.6999930000699993   0.4666635555762962          0.0   \n",
       "3  0.24999687503906198  0.3999960000399996  0.28571224491253633          0.0   \n",
       "4                  0.0                 0.0                  0.0          0.0   \n",
       "5   0.6666444451851604  0.5714204082798817   0.3076899408466089          0.0   \n",
       "\n",
       "  first_word_eq abs_len_diff mean_len  ...                 86_y  \\\n",
       "1           1.0          2.0     13.0  ...   -72.71814632415771   \n",
       "2           1.0          5.0     12.5  ...    6.585885405540466   \n",
       "3           1.0          4.0     12.0  ...   -26.91285538673401   \n",
       "4           0.0          2.0     12.0  ...  -17.692158341407776   \n",
       "5           1.0          6.0     10.0  ...    36.23295804485679   \n",
       "\n",
       "                  87_y                 88_y                 89_y  \\\n",
       "1  -37.148065984249115   -31.49060845375061    94.14115607738495   \n",
       "2  -59.548013269901276  -16.186697378754616  0.06181211769580841   \n",
       "3  -19.578776761889458    75.00660336017609    23.60210806131363   \n",
       "4   29.719559133052826    49.37364239990711   27.600317001342773   \n",
       "5    47.26962113380432   -49.66434621810913   45.108630895614624   \n",
       "\n",
       "                 90_y                 91_y                 92_y  \\\n",
       "1  -44.95064043998718  -34.465246595442295   -76.63425534963608   \n",
       "2  26.350537687540054    164.4502021074295   -58.13519740104675   \n",
       "3  -92.49524259567261  -178.37260788679123    -91.4541928768158   \n",
       "4    25.0191650390625   -33.12124443054199  -3.2661298513412476   \n",
       "5  39.767184406518936  -33.761698722839355   -98.38638353347778   \n",
       "\n",
       "                 93_y                94_y                95_y  \n",
       "1  100.02511137723923   51.06507237255573  -17.63727593421936  \n",
       "2  189.70348000526428  122.12977933883667  56.350818037986755  \n",
       "3  20.879005789756775  22.670340299606323   49.18510577455163  \n",
       "4  -14.85487174987793   4.196987628936768   7.882364273071289  \n",
       "5   22.07925969362259   68.23012709617615   21.04085874557495  \n",
       "\n",
       "[5 rows x 218 columns]"
      ]
     },
     "execution_count": 26,
     "metadata": {},
     "output_type": "execute_result"
    }
   ],
   "source": [
    "data_train.head()"
   ]
  },
  {
   "cell_type": "code",
   "execution_count": 27,
   "metadata": {},
   "outputs": [
    {
     "name": "stdout",
     "output_type": "stream",
     "text": [
      "Tables in the databse:\n",
      "data_test\n"
     ]
    }
   ],
   "source": [
    "#storing and reading the test data\n",
    "read_db = 'test_30k.db'\n",
    "conn_r = create_connection(read_db)\n",
    "checkTableExists(conn_r)\n",
    "conn_r.close()\n",
    "\n",
    "#try to sample data according to the computing power you have\n",
    "if os.path.isfile(read_db):\n",
    "    conn_r = create_connection(read_db)\n",
    "    if conn_r is not None:\n",
    "        # for selecting first 1M rows\n",
    "        # data = pd.read_sql_query(\"\"\"SELECT * FROM data LIMIT 100001;\"\"\", conn_r)\n",
    "        \n",
    "        # for selecting random points\n",
    "        data_test = pd.read_sql_query(\"SELECT * From data_test;\", conn_r)\n",
    "        conn_r.commit()\n",
    "        conn_r.close()\n",
    "\n",
    "# remove the first row \n",
    "data_test.drop(data_test.index[0], inplace=True)\n",
    "y_true_test = data_test['is_duplicate']\n",
    "data_test.drop(['Unnamed: 0', 'id','is_duplicate','index'], axis=1, inplace=True)"
   ]
  },
  {
   "cell_type": "markdown",
   "metadata": {
    "colab_type": "text",
    "id": "KaWHDzqUtASD"
   },
   "source": [
    "<h2> 4.2 Converting strings to numerics </h2>"
   ]
  },
  {
   "cell_type": "code",
   "execution_count": 28,
   "metadata": {
    "colab": {},
    "colab_type": "code",
    "id": "iLV60gkptASD",
    "outputId": "f297e0f4-52d5-4ab4-8a43-f0ff82f63698"
   },
   "outputs": [
    {
     "name": "stdout",
     "output_type": "stream",
     "text": [
      "cwc_min\n",
      "cwc_max\n",
      "csc_min\n",
      "csc_max\n",
      "ctc_min\n",
      "ctc_max\n",
      "last_word_eq\n",
      "first_word_eq\n",
      "abs_len_diff\n",
      "mean_len\n",
      "token_set_ratio\n",
      "token_sort_ratio\n",
      "fuzz_ratio\n",
      "fuzz_partial_ratio\n",
      "longest_substr_ratio\n",
      "freq_qid1\n",
      "freq_qid2\n",
      "q1len\n",
      "q2len\n",
      "q1_n_words\n",
      "q2_n_words\n",
      "word_Common\n",
      "word_Total\n",
      "word_share\n",
      "freq_q1+q2\n",
      "freq_q1-q2\n",
      "0_x\n",
      "1_x\n",
      "2_x\n",
      "3_x\n",
      "4_x\n",
      "5_x\n",
      "6_x\n",
      "7_x\n",
      "8_x\n",
      "9_x\n",
      "10_x\n",
      "11_x\n",
      "12_x\n",
      "13_x\n",
      "14_x\n",
      "15_x\n",
      "16_x\n",
      "17_x\n",
      "18_x\n",
      "19_x\n",
      "20_x\n",
      "21_x\n",
      "22_x\n",
      "23_x\n",
      "24_x\n",
      "25_x\n",
      "26_x\n",
      "27_x\n",
      "28_x\n",
      "29_x\n",
      "30_x\n",
      "31_x\n",
      "32_x\n",
      "33_x\n",
      "34_x\n",
      "35_x\n",
      "36_x\n",
      "37_x\n",
      "38_x\n",
      "39_x\n",
      "40_x\n",
      "41_x\n",
      "42_x\n",
      "43_x\n",
      "44_x\n",
      "45_x\n",
      "46_x\n",
      "47_x\n",
      "48_x\n",
      "49_x\n",
      "50_x\n",
      "51_x\n",
      "52_x\n",
      "53_x\n",
      "54_x\n",
      "55_x\n",
      "56_x\n",
      "57_x\n",
      "58_x\n",
      "59_x\n",
      "60_x\n",
      "61_x\n",
      "62_x\n",
      "63_x\n",
      "64_x\n",
      "65_x\n",
      "66_x\n",
      "67_x\n",
      "68_x\n",
      "69_x\n",
      "70_x\n",
      "71_x\n",
      "72_x\n",
      "73_x\n",
      "74_x\n",
      "75_x\n",
      "76_x\n",
      "77_x\n",
      "78_x\n",
      "79_x\n",
      "80_x\n",
      "81_x\n",
      "82_x\n",
      "83_x\n",
      "84_x\n",
      "85_x\n",
      "86_x\n",
      "87_x\n",
      "88_x\n",
      "89_x\n",
      "90_x\n",
      "91_x\n",
      "92_x\n",
      "93_x\n",
      "94_x\n",
      "95_x\n",
      "0_y\n",
      "1_y\n",
      "2_y\n",
      "3_y\n",
      "4_y\n",
      "5_y\n",
      "6_y\n",
      "7_y\n",
      "8_y\n",
      "9_y\n",
      "10_y\n",
      "11_y\n",
      "12_y\n",
      "13_y\n",
      "14_y\n",
      "15_y\n",
      "16_y\n",
      "17_y\n",
      "18_y\n",
      "19_y\n",
      "20_y\n",
      "21_y\n",
      "22_y\n",
      "23_y\n",
      "24_y\n",
      "25_y\n",
      "26_y\n",
      "27_y\n",
      "28_y\n",
      "29_y\n",
      "30_y\n",
      "31_y\n",
      "32_y\n",
      "33_y\n",
      "34_y\n",
      "35_y\n",
      "36_y\n",
      "37_y\n",
      "38_y\n",
      "39_y\n",
      "40_y\n",
      "41_y\n",
      "42_y\n",
      "43_y\n",
      "44_y\n",
      "45_y\n",
      "46_y\n",
      "47_y\n",
      "48_y\n",
      "49_y\n",
      "50_y\n",
      "51_y\n",
      "52_y\n",
      "53_y\n",
      "54_y\n",
      "55_y\n",
      "56_y\n",
      "57_y\n",
      "58_y\n",
      "59_y\n",
      "60_y\n",
      "61_y\n",
      "62_y\n",
      "63_y\n",
      "64_y\n",
      "65_y\n",
      "66_y\n",
      "67_y\n",
      "68_y\n",
      "69_y\n",
      "70_y\n",
      "71_y\n",
      "72_y\n",
      "73_y\n",
      "74_y\n",
      "75_y\n",
      "76_y\n",
      "77_y\n",
      "78_y\n",
      "79_y\n",
      "80_y\n",
      "81_y\n",
      "82_y\n",
      "83_y\n",
      "84_y\n",
      "85_y\n",
      "86_y\n",
      "87_y\n",
      "88_y\n",
      "89_y\n",
      "90_y\n",
      "91_y\n",
      "92_y\n",
      "93_y\n",
      "94_y\n",
      "95_y\n"
     ]
    }
   ],
   "source": [
    "# after we read from sql table each entry was read it as a string\n",
    "# we convert all the features into numaric before we apply any model\n",
    "cols = list(data_train.columns)\n",
    "for i in cols:\n",
    "    data_train[i] = data_train[i].apply(pd.to_numeric)\n",
    "    print(i)"
   ]
  },
  {
   "cell_type": "code",
   "execution_count": 29,
   "metadata": {},
   "outputs": [
    {
     "name": "stdout",
     "output_type": "stream",
     "text": [
      "cwc_min\n",
      "cwc_max\n",
      "csc_min\n",
      "csc_max\n",
      "ctc_min\n",
      "ctc_max\n",
      "last_word_eq\n",
      "first_word_eq\n",
      "abs_len_diff\n",
      "mean_len\n",
      "token_set_ratio\n",
      "token_sort_ratio\n",
      "fuzz_ratio\n",
      "fuzz_partial_ratio\n",
      "longest_substr_ratio\n",
      "freq_qid1\n",
      "freq_qid2\n",
      "q1len\n",
      "q2len\n",
      "q1_n_words\n",
      "q2_n_words\n",
      "word_Common\n",
      "word_Total\n",
      "word_share\n",
      "freq_q1+q2\n",
      "freq_q1-q2\n",
      "0_x\n",
      "1_x\n",
      "2_x\n",
      "3_x\n",
      "4_x\n",
      "5_x\n",
      "6_x\n",
      "7_x\n",
      "8_x\n",
      "9_x\n",
      "10_x\n",
      "11_x\n",
      "12_x\n",
      "13_x\n",
      "14_x\n",
      "15_x\n",
      "16_x\n",
      "17_x\n",
      "18_x\n",
      "19_x\n",
      "20_x\n",
      "21_x\n",
      "22_x\n",
      "23_x\n",
      "24_x\n",
      "25_x\n",
      "26_x\n",
      "27_x\n",
      "28_x\n",
      "29_x\n",
      "30_x\n",
      "31_x\n",
      "32_x\n",
      "33_x\n",
      "34_x\n",
      "35_x\n",
      "36_x\n",
      "37_x\n",
      "38_x\n",
      "39_x\n",
      "40_x\n",
      "41_x\n",
      "42_x\n",
      "43_x\n",
      "44_x\n",
      "45_x\n",
      "46_x\n",
      "47_x\n",
      "48_x\n",
      "49_x\n",
      "50_x\n",
      "51_x\n",
      "52_x\n",
      "53_x\n",
      "54_x\n",
      "55_x\n",
      "56_x\n",
      "57_x\n",
      "58_x\n",
      "59_x\n",
      "60_x\n",
      "61_x\n",
      "62_x\n",
      "63_x\n",
      "64_x\n",
      "65_x\n",
      "66_x\n",
      "67_x\n",
      "68_x\n",
      "69_x\n",
      "70_x\n",
      "71_x\n",
      "72_x\n",
      "73_x\n",
      "74_x\n",
      "75_x\n",
      "76_x\n",
      "77_x\n",
      "78_x\n",
      "79_x\n",
      "80_x\n",
      "81_x\n",
      "82_x\n",
      "83_x\n",
      "84_x\n",
      "85_x\n",
      "86_x\n",
      "87_x\n",
      "88_x\n",
      "89_x\n",
      "90_x\n",
      "91_x\n",
      "92_x\n",
      "93_x\n",
      "94_x\n",
      "95_x\n",
      "0_y\n",
      "1_y\n",
      "2_y\n",
      "3_y\n",
      "4_y\n",
      "5_y\n",
      "6_y\n",
      "7_y\n",
      "8_y\n",
      "9_y\n",
      "10_y\n",
      "11_y\n",
      "12_y\n",
      "13_y\n",
      "14_y\n",
      "15_y\n",
      "16_y\n",
      "17_y\n",
      "18_y\n",
      "19_y\n",
      "20_y\n",
      "21_y\n",
      "22_y\n",
      "23_y\n",
      "24_y\n",
      "25_y\n",
      "26_y\n",
      "27_y\n",
      "28_y\n",
      "29_y\n",
      "30_y\n",
      "31_y\n",
      "32_y\n",
      "33_y\n",
      "34_y\n",
      "35_y\n",
      "36_y\n",
      "37_y\n",
      "38_y\n",
      "39_y\n",
      "40_y\n",
      "41_y\n",
      "42_y\n",
      "43_y\n",
      "44_y\n",
      "45_y\n",
      "46_y\n",
      "47_y\n",
      "48_y\n",
      "49_y\n",
      "50_y\n",
      "51_y\n",
      "52_y\n",
      "53_y\n",
      "54_y\n",
      "55_y\n",
      "56_y\n",
      "57_y\n",
      "58_y\n",
      "59_y\n",
      "60_y\n",
      "61_y\n",
      "62_y\n",
      "63_y\n",
      "64_y\n",
      "65_y\n",
      "66_y\n",
      "67_y\n",
      "68_y\n",
      "69_y\n",
      "70_y\n",
      "71_y\n",
      "72_y\n",
      "73_y\n",
      "74_y\n",
      "75_y\n",
      "76_y\n",
      "77_y\n",
      "78_y\n",
      "79_y\n",
      "80_y\n",
      "81_y\n",
      "82_y\n",
      "83_y\n",
      "84_y\n",
      "85_y\n",
      "86_y\n",
      "87_y\n",
      "88_y\n",
      "89_y\n",
      "90_y\n",
      "91_y\n",
      "92_y\n",
      "93_y\n",
      "94_y\n",
      "95_y\n"
     ]
    }
   ],
   "source": [
    "# after we read from sql table each entry was read it as a string\n",
    "# we convert all the test features into numaric before we apply any model\n",
    "cols = list(data_test.columns)\n",
    "for i in cols:\n",
    "    data_test[i] = data_test[i].apply(pd.to_numeric)\n",
    "    print(i)"
   ]
  },
  {
   "cell_type": "code",
   "execution_count": 30,
   "metadata": {
    "colab": {},
    "colab_type": "code",
    "id": "_LpfQwc9tASJ"
   },
   "outputs": [],
   "source": [
    "# https://stackoverflow.com/questions/7368789/convert-all-strings-in-a-list-to-int\n",
    "y_true = list(map(int, y_true.values))\n",
    "y_true_test = list(map(int, y_true_test.values))"
   ]
  },
  {
   "cell_type": "markdown",
   "metadata": {
    "colab_type": "text",
    "id": "CuMTqWGutASO"
   },
   "source": [
    "# Storing train,test data to be fed to models"
   ]
  },
  {
   "cell_type": "code",
   "execution_count": 31,
   "metadata": {
    "colab": {},
    "colab_type": "code",
    "id": "3Rat2obGtASP"
   },
   "outputs": [],
   "source": [
    "X_train = data_train\n",
    "X_test = data_test\n",
    "y_train = y_true\n",
    "y_test = y_true_test"
   ]
  },
  {
   "cell_type": "code",
   "execution_count": null,
   "metadata": {},
   "outputs": [],
   "source": [
    "#np.isnan(X_train).any().value_counts()"
   ]
  },
  {
   "cell_type": "code",
   "execution_count": null,
   "metadata": {},
   "outputs": [],
   "source": [
    "#X_train = X_train.fillna('')"
   ]
  },
  {
   "cell_type": "code",
   "execution_count": 32,
   "metadata": {
    "colab": {},
    "colab_type": "code",
    "id": "1Iw9zCHqtASS",
    "outputId": "910b684b-0876-4dd8-e0d9-457846236833"
   },
   "outputs": [
    {
     "name": "stdout",
     "output_type": "stream",
     "text": [
      "Number of data points in train data : (70000, 218)\n",
      "Number of data points in test data : (30000, 218)\n"
     ]
    }
   ],
   "source": [
    "print(\"Number of data points in train data :\",X_train.shape)\n",
    "print(\"Number of data points in test data :\",X_test.shape)"
   ]
  },
  {
   "cell_type": "code",
   "execution_count": 33,
   "metadata": {
    "colab": {},
    "colab_type": "code",
    "id": "0oDV15LJtASY",
    "outputId": "70a1e4eb-3f31-4f1e-a53b-ad972978505d"
   },
   "outputs": [
    {
     "name": "stdout",
     "output_type": "stream",
     "text": [
      "---------- Distribution of output variable in train data ----------\n",
      "Class 0:  0.6275428571428572 Class 1:  0.3724571428571429\n",
      "---------- Distribution of output variable in test data ----------\n",
      "Class 0:  0.6272666666666666 Class 1:  0.37273333333333336\n"
     ]
    }
   ],
   "source": [
    "print(\"-\"*10, \"Distribution of output variable in train data\", \"-\"*10)\n",
    "train_distr = Counter(y_train)\n",
    "train_len = len(y_train)\n",
    "print(\"Class 0: \",int(train_distr[0])/train_len,\"Class 1: \", int(train_distr[1])/train_len)\n",
    "print(\"-\"*10, \"Distribution of output variable in test data\", \"-\"*10)\n",
    "test_distr = Counter(y_test)\n",
    "test_len = len(y_test)\n",
    "print(\"Class 0: \",int(test_distr[0])/test_len, \"Class 1: \",int(test_distr[1])/test_len)"
   ]
  },
  {
   "cell_type": "code",
   "execution_count": 34,
   "metadata": {
    "colab": {},
    "colab_type": "code",
    "id": "XfxcPT6jtASg"
   },
   "outputs": [],
   "source": [
    "# This function plots the confusion matrices given y_i, y_i_hat.\n",
    "def plot_confusion_matrix(test_y, predict_y):\n",
    "    C = confusion_matrix(test_y, predict_y)\n",
    "    # C = 9,9 matrix, each cell (i,j) represents number of points of class i are predicted class j\n",
    "    \n",
    "    A =(((C.T)/(C.sum(axis=1))).T)\n",
    "    #divid each element of the confusion matrix with the sum of elements in that column\n",
    "    \n",
    "    # C = [[1, 2],\n",
    "    #     [3, 4]]\n",
    "    # C.T = [[1, 3],\n",
    "    #        [2, 4]]\n",
    "    # C.sum(axis = 1)  axis=0 corresonds to columns and axis=1 corresponds to rows in two diamensional array\n",
    "    # C.sum(axix =1) = [[3, 7]]\n",
    "    # ((C.T)/(C.sum(axis=1))) = [[1/3, 3/7]\n",
    "    #                           [2/3, 4/7]]\n",
    "\n",
    "    # ((C.T)/(C.sum(axis=1))).T = [[1/3, 2/3]\n",
    "    #                           [3/7, 4/7]]\n",
    "    # sum of row elements = 1\n",
    "    \n",
    "    B =(C/C.sum(axis=0))\n",
    "    #divid each element of the confusion matrix with the sum of elements in that row\n",
    "    # C = [[1, 2],\n",
    "    #     [3, 4]]\n",
    "    # C.sum(axis = 0)  axis=0 corresonds to columns and axis=1 corresponds to rows in two diamensional array\n",
    "    # C.sum(axix =0) = [[4, 6]]\n",
    "    # (C/C.sum(axis=0)) = [[1/4, 2/6],\n",
    "    #                      [3/4, 4/6]] \n",
    "    plt.figure(figsize=(20,4))\n",
    "    \n",
    "    labels = [1,2]\n",
    "    # representing A in heatmap format\n",
    "    cmap=sns.light_palette(\"blue\")\n",
    "    plt.subplot(1, 3, 1)\n",
    "    sns.heatmap(C, annot=True, cmap=cmap, fmt=\".3f\", xticklabels=labels, yticklabels=labels)\n",
    "    plt.xlabel('Predicted Class')\n",
    "    plt.ylabel('Original Class')\n",
    "    plt.title(\"Confusion matrix\")\n",
    "    \n",
    "    plt.subplot(1, 3, 2)\n",
    "    sns.heatmap(B, annot=True, cmap=cmap, fmt=\".3f\", xticklabels=labels, yticklabels=labels)\n",
    "    plt.xlabel('Predicted Class')\n",
    "    plt.ylabel('Original Class')\n",
    "    plt.title(\"Precision matrix\")\n",
    "    \n",
    "    plt.subplot(1, 3, 3)\n",
    "    # representing B in heatmap format\n",
    "    sns.heatmap(A, annot=True, cmap=cmap, fmt=\".3f\", xticklabels=labels, yticklabels=labels)\n",
    "    plt.xlabel('Predicted Class')\n",
    "    plt.ylabel('Original Class')\n",
    "    plt.title(\"Recall matrix\")\n",
    "    \n",
    "    plt.show()"
   ]
  },
  {
   "cell_type": "markdown",
   "metadata": {
    "colab_type": "text",
    "id": "UStQJ5F_tASk"
   },
   "source": [
    "<h2> 4.4 Building a random model (Finding worst-case log-loss) </h2>"
   ]
  },
  {
   "cell_type": "code",
   "execution_count": 35,
   "metadata": {
    "colab": {},
    "colab_type": "code",
    "id": "qwMDqcU7tASl",
    "outputId": "c1e90d53-25ec-445b-e33a-299538520e32"
   },
   "outputs": [
    {
     "name": "stdout",
     "output_type": "stream",
     "text": [
      "Log loss on Test Data using Random Model 0.8834092307256727\n"
     ]
    },
    {
     "data": {
      "image/png": "[encoded data removed]",
      "text/plain": [
       "<Figure size 1440x288 with 6 Axes>"
      ]
     },
     "metadata": {
      "needs_background": "light"
     },
     "output_type": "display_data"
    }
   ],
   "source": [
    "# we need to generate 9 numbers and the sum of numbers should be 1\n",
    "# one solution is to genarate 9 numbers and divide each of the numbers by their sum\n",
    "# ref: https://stackoverflow.com/a/18662466/4084039\n",
    "# we create a output array that has exactly same size as the CV data\n",
    "predicted_y = np.zeros((test_len,2))\n",
    "for i in range(test_len):\n",
    "    rand_probs = np.random.rand(1,2)\n",
    "    predicted_y[i] = ((rand_probs/sum(sum(rand_probs)))[0])\n",
    "log_loss_random_model = log_loss(y_test, predicted_y, eps=1e-15)\n",
    "print(\"Log loss on Test Data using Random Model\",log_loss(y_test, predicted_y, eps=1e-15))\n",
    "\n",
    "predicted_y =np.argmax(predicted_y, axis=1)\n",
    "plot_confusion_matrix(y_test, predicted_y)"
   ]
  },
  {
   "cell_type": "markdown",
   "metadata": {
    "colab_type": "text",
    "id": "YgY29g_qtASq"
   },
   "source": [
    "<h2> 4.4 Logistic Regression with hyperparameter tuning </h2>"
   ]
  },
  {
   "cell_type": "code",
   "execution_count": 36,
   "metadata": {
    "colab": {},
    "colab_type": "code",
    "id": "Wb2tOE3GtASr",
    "outputId": "d7e4fc88-7d4e-4313-cda7-462a2409292e",
    "scrolled": false
   },
   "outputs": [
    {
     "name": "stdout",
     "output_type": "stream",
     "text": [
      "For values of alpha =  1e-05 The log loss is: 0.49632237103048543\n",
      "For values of alpha =  0.0001 The log loss is: 0.4978908415268128\n",
      "For values of alpha =  0.001 The log loss is: 0.5004041430704348\n",
      "For values of alpha =  0.01 The log loss is: 0.5035940871450374\n",
      "For values of alpha =  0.1 The log loss is: 0.5065390457862332\n",
      "For values of alpha =  1 The log loss is: 0.5278004937428971\n",
      "For values of alpha =  10 The log loss is: 0.5612711477440843\n"
     ]
    },
    {
     "data": {
      "image/png": "[encoded data removed]",
      "text/plain": [
       "<Figure size 432x288 with 1 Axes>"
      ]
     },
     "metadata": {
      "needs_background": "light"
     },
     "output_type": "display_data"
    },
    {
     "name": "stdout",
     "output_type": "stream",
     "text": [
      "For values of best alpha =  1e-05 The train log loss is: 0.48969361001930417\n",
      "For values of best alpha =  1e-05 The test log loss is: 0.49632237103048543\n",
      "Total number of data points : 30000\n"
     ]
    },
    {
     "data": {
      "image/png": "[encoded data removed]",
      "text/plain": [
       "<Figure size 1440x288 with 6 Axes>"
      ]
     },
     "metadata": {
      "needs_background": "light"
     },
     "output_type": "display_data"
    }
   ],
   "source": [
    "alpha = [10 ** x for x in range(-5, 2)] # hyperparam for SGD classifier.\n",
    "\n",
    "# read more about SGDClassifier() at http://scikit-learn.org/stable/modules/generated/sklearn.linear_model.SGDClassifier.html\n",
    "# ------------------------------\n",
    "# default parameters\n",
    "# SGDClassifier(loss=’hinge’, penalty=’l2’, alpha=0.0001, l1_ratio=0.15, fit_intercept=True, max_iter=None, tol=None, \n",
    "# shuffle=True, verbose=0, epsilon=0.1, n_jobs=1, random_state=None, learning_rate=’optimal’, eta0=0.0, power_t=0.5, \n",
    "# class_weight=None, warm_start=False, average=False, n_iter=None)\n",
    "\n",
    "# some of methods\n",
    "# fit(X, y[, coef_init, intercept_init, …])\tFit linear model with Stochastic Gradient Descent.\n",
    "# predict(X)\tPredict class labels for samples in X.\n",
    "\n",
    "#-------------------------------\n",
    "# video link: \n",
    "#------------------------------\n",
    "\n",
    "\n",
    "log_error_array=[]\n",
    "for i in alpha:\n",
    "    clf = SGDClassifier(alpha=i, penalty='l2', loss='log', random_state=42,class_weight='balanced')\n",
    "    clf.fit(X_train, y_train)\n",
    "    sig_clf = CalibratedClassifierCV(clf, method=\"sigmoid\")\n",
    "    sig_clf.fit(X_train, y_train)\n",
    "    predict_y = sig_clf.predict_proba(X_test)\n",
    "    log_error_array.append(log_loss(y_test, predict_y, labels=clf.classes_, eps=1e-15))\n",
    "    print('For values of alpha = ', i, \"The log loss is:\",log_loss(y_test, predict_y, labels=clf.classes_, eps=1e-15))\n",
    "\n",
    "fig, ax = plt.subplots()\n",
    "ax.plot(alpha, log_error_array,c='g')\n",
    "for i, txt in enumerate(np.round(log_error_array,3)):\n",
    "    ax.annotate((alpha[i],np.round(txt,3)), (alpha[i],log_error_array[i]))\n",
    "plt.grid()\n",
    "plt.title(\"Cross Validation Error for each alpha\")\n",
    "plt.xlabel(\"Alpha i's\")\n",
    "plt.ylabel(\"Error measure\")\n",
    "plt.show()\n",
    "\n",
    "\n",
    "best_alpha = np.argmin(log_error_array)\n",
    "clf = SGDClassifier(alpha=alpha[best_alpha], penalty='l2', loss='log', random_state=42,class_weight='balanced')\n",
    "clf.fit(X_train, y_train)\n",
    "sig_clf = CalibratedClassifierCV(clf, method=\"sigmoid\")\n",
    "sig_clf.fit(X_train, y_train)\n",
    "\n",
    "predict_y = sig_clf.predict_proba(X_train)\n",
    "log_loss_train_lr = log_loss(y_train, predict_y, labels=clf.classes_, eps=1e-15)\n",
    "print('For values of best alpha = ', alpha[best_alpha], \"The train log loss is:\",log_loss(y_train, predict_y, labels=clf.classes_, eps=1e-15))\n",
    "predict_y = sig_clf.predict_proba(X_test)\n",
    "log_loss_test_lr = log_loss(y_test, predict_y, labels=clf.classes_, eps=1e-15)\n",
    "print('For values of best alpha = ', alpha[best_alpha], \"The test log loss is:\",log_loss(y_test, predict_y, labels=clf.classes_, eps=1e-15))\n",
    "predicted_y =np.argmax(predict_y,axis=1)\n",
    "print(\"Total number of data points :\", len(predicted_y))\n",
    "plot_confusion_matrix(y_test, predicted_y)"
   ]
  },
  {
   "cell_type": "code",
   "execution_count": 37,
   "metadata": {},
   "outputs": [],
   "source": [
    "#X_train[X_train.isnull()]"
   ]
  },
  {
   "cell_type": "markdown",
   "metadata": {
    "colab_type": "text",
    "id": "ouQSEnr3tASy"
   },
   "source": [
    "<h2> 4.5 Linear SVM with hyperparameter tuning </h2>"
   ]
  },
  {
   "cell_type": "code",
   "execution_count": 38,
   "metadata": {
    "colab": {},
    "colab_type": "code",
    "id": "AOFfZ5PLtAS0",
    "outputId": "d31eb598-e275-48cb-c49b-98e9eb76d8ba"
   },
   "outputs": [
    {
     "name": "stdout",
     "output_type": "stream",
     "text": [
      "For values of alpha =  1e-05 The log loss is: 0.6603945396142471\n",
      "For values of alpha =  0.0001 The log loss is: 0.5268544949399735\n",
      "For values of alpha =  0.001 The log loss is: 0.5267478219658294\n",
      "For values of alpha =  0.01 The log loss is: 0.5549789376625109\n",
      "For values of alpha =  0.1 The log loss is: 0.614665946680227\n",
      "For values of alpha =  1 The log loss is: 0.6367164960214842\n",
      "For values of alpha =  10 The log loss is: 0.6460249926060778\n"
     ]
    },
    {
     "data": {
      "image/png": "[encoded data removed]",
      "text/plain": [
       "<Figure size 432x288 with 1 Axes>"
      ]
     },
     "metadata": {
      "needs_background": "light"
     },
     "output_type": "display_data"
    },
    {
     "name": "stdout",
     "output_type": "stream",
     "text": [
      "For values of best alpha =  0.001 The train log loss is: 0.5230666572839103\n",
      "For values of best alpha =  0.001 The test log loss is: 0.5267478219658294\n",
      "Total number of data points : 30000\n"
     ]
    },
    {
     "data": {
      "image/png": "[encoded data removed]",
      "text/plain": [
       "<Figure size 1440x288 with 6 Axes>"
      ]
     },
     "metadata": {
      "needs_background": "light"
     },
     "output_type": "display_data"
    }
   ],
   "source": [
    "alpha = [10 ** x for x in range(-5, 2)] # hyperparam for SGD classifier.\n",
    "\n",
    "# read more about SGDClassifier() at http://scikit-learn.org/stable/modules/generated/sklearn.linear_model.SGDClassifier.html\n",
    "# ------------------------------\n",
    "# default parameters\n",
    "# SGDClassifier(loss=’hinge’, penalty=’l2’, alpha=0.0001, l1_ratio=0.15, fit_intercept=True, max_iter=None, tol=None, \n",
    "# shuffle=True, verbose=0, epsilon=0.1, n_jobs=1, random_state=None, learning_rate=’optimal’, eta0=0.0, power_t=0.5, \n",
    "# class_weight=None, warm_start=False, average=False, n_iter=None)\n",
    "\n",
    "# some of methods\n",
    "# fit(X, y[, coef_init, intercept_init, …])\tFit linear model with Stochastic Gradient Descent.\n",
    "# predict(X)\tPredict class labels for samples in X.\n",
    "\n",
    "#-------------------------------\n",
    "# video link: \n",
    "#------------------------------\n",
    "\n",
    "\n",
    "log_error_array=[]\n",
    "for i in alpha:\n",
    "    clf = SGDClassifier(alpha=i, penalty='l1', loss='hinge', random_state=42,class_weight='balanced')\n",
    "    clf.fit(X_train, y_train)\n",
    "    sig_clf = CalibratedClassifierCV(clf, method=\"sigmoid\")\n",
    "    sig_clf.fit(X_train, y_train)\n",
    "    predict_y = sig_clf.predict_proba(X_test)\n",
    "    log_error_array.append(log_loss(y_test, predict_y, labels=clf.classes_, eps=1e-15))\n",
    "    print('For values of alpha = ', i, \"The log loss is:\",log_loss(y_test, predict_y, labels=clf.classes_, eps=1e-15))\n",
    "\n",
    "fig, ax = plt.subplots()\n",
    "ax.plot(alpha, log_error_array,c='g')\n",
    "for i, txt in enumerate(np.round(log_error_array,3)):\n",
    "    ax.annotate((alpha[i],np.round(txt,3)), (alpha[i],log_error_array[i]))\n",
    "plt.grid()\n",
    "plt.title(\"Cross Validation Error for each alpha\")\n",
    "plt.xlabel(\"Alpha i's\")\n",
    "plt.ylabel(\"Error measure\")\n",
    "plt.show()\n",
    "\n",
    "\n",
    "best_alpha = np.argmin(log_error_array)\n",
    "clf = SGDClassifier(alpha=alpha[best_alpha], penalty='l1', loss='hinge', random_state=42,class_weight='balanced')\n",
    "clf.fit(X_train, y_train)\n",
    "sig_clf = CalibratedClassifierCV(clf, method=\"sigmoid\")\n",
    "sig_clf.fit(X_train, y_train)\n",
    "\n",
    "predict_y = sig_clf.predict_proba(X_train)\n",
    "\n",
    "log_loss_train_svm = log_loss(y_train, predict_y, labels=clf.classes_, eps=1e-15)\n",
    "print('For values of best alpha = ', alpha[best_alpha], \"The train log loss is:\",log_loss(y_train, predict_y, labels=clf.classes_, eps=1e-15))\n",
    "predict_y = sig_clf.predict_proba(X_test)\n",
    "\n",
    "log_loss_test_svm = log_loss(y_test, predict_y, labels=clf.classes_, eps=1e-15)\n",
    "print('For values of best alpha = ', alpha[best_alpha], \"The test log loss is:\",log_loss(y_test, predict_y, labels=clf.classes_, eps=1e-15))\n",
    "predicted_y =np.argmax(predict_y,axis=1)\n",
    "print(\"Total number of data points :\", len(predicted_y))\n",
    "plot_confusion_matrix(y_test, predicted_y)"
   ]
  },
  {
   "cell_type": "markdown",
   "metadata": {
    "colab_type": "text",
    "id": "ZhTJgclztAS6"
   },
   "source": [
    "<h2> 4.6 XGBoost </h2>"
   ]
  },
  {
   "cell_type": "code",
   "execution_count": 39,
   "metadata": {
    "colab": {},
    "colab_type": "code",
    "id": "9U367-xetAS7",
    "outputId": "167e8588-2ac4-4c6d-ac22-f56a2fce5657"
   },
   "outputs": [
    {
     "name": "stdout",
     "output_type": "stream",
     "text": [
      "[0]\ttrain-logloss:0.685622\tvalid-logloss:0.685735\n",
      "Multiple eval metrics have been passed: 'valid-logloss' will be used for early stopping.\n",
      "\n",
      "Will train until valid-logloss hasn't improved in 20 rounds.\n",
      "[10]\ttrain-logloss:0.623435\tvalid-logloss:0.624435\n",
      "[20]\ttrain-logloss:0.578183\tvalid-logloss:0.579912\n",
      "[30]\ttrain-logloss:0.544074\tvalid-logloss:0.546431\n",
      "[40]\ttrain-logloss:0.517738\tvalid-logloss:0.520505\n",
      "[50]\ttrain-logloss:0.497196\tvalid-logloss:0.500278\n",
      "[60]\ttrain-logloss:0.480887\tvalid-logloss:0.48424\n",
      "[70]\ttrain-logloss:0.467738\tvalid-logloss:0.471386\n",
      "[80]\ttrain-logloss:0.457457\tvalid-logloss:0.461314\n",
      "[90]\ttrain-logloss:0.448756\tvalid-logloss:0.452737\n",
      "[100]\ttrain-logloss:0.441374\tvalid-logloss:0.445593\n",
      "[110]\ttrain-logloss:0.435066\tvalid-logloss:0.439546\n",
      "[120]\ttrain-logloss:0.429802\tvalid-logloss:0.434549\n",
      "[130]\ttrain-logloss:0.425207\tvalid-logloss:0.430202\n",
      "[140]\ttrain-logloss:0.421548\tvalid-logloss:0.426853\n",
      "[150]\ttrain-logloss:0.418117\tvalid-logloss:0.423755\n",
      "[160]\ttrain-logloss:0.415329\tvalid-logloss:0.421246\n",
      "[170]\ttrain-logloss:0.412818\tvalid-logloss:0.419099\n",
      "[180]\ttrain-logloss:0.410663\tvalid-logloss:0.417293\n",
      "[190]\ttrain-logloss:0.408447\tvalid-logloss:0.415314\n",
      "[200]\ttrain-logloss:0.406488\tvalid-logloss:0.413621\n",
      "[210]\ttrain-logloss:0.404609\tvalid-logloss:0.41205\n",
      "[220]\ttrain-logloss:0.402937\tvalid-logloss:0.410589\n",
      "[230]\ttrain-logloss:0.401336\tvalid-logloss:0.409256\n",
      "[240]\ttrain-logloss:0.39976\tvalid-logloss:0.407949\n",
      "[250]\ttrain-logloss:0.3982\tvalid-logloss:0.406654\n",
      "[260]\ttrain-logloss:0.396699\tvalid-logloss:0.405447\n",
      "[270]\ttrain-logloss:0.395167\tvalid-logloss:0.404222\n",
      "[280]\ttrain-logloss:0.393961\tvalid-logloss:0.403312\n",
      "[290]\ttrain-logloss:0.392568\tvalid-logloss:0.402242\n",
      "[300]\ttrain-logloss:0.391406\tvalid-logloss:0.401395\n",
      "[310]\ttrain-logloss:0.390147\tvalid-logloss:0.400444\n",
      "[320]\ttrain-logloss:0.388922\tvalid-logloss:0.399515\n",
      "[330]\ttrain-logloss:0.387892\tvalid-logloss:0.39878\n",
      "[340]\ttrain-logloss:0.38689\tvalid-logloss:0.398152\n",
      "[350]\ttrain-logloss:0.385788\tvalid-logloss:0.397355\n",
      "[360]\ttrain-logloss:0.384696\tvalid-logloss:0.396581\n",
      "[370]\ttrain-logloss:0.383735\tvalid-logloss:0.39595\n",
      "[380]\ttrain-logloss:0.382742\tvalid-logloss:0.395256\n",
      "[390]\ttrain-logloss:0.381831\tvalid-logloss:0.394654\n",
      "[399]\ttrain-logloss:0.380944\tvalid-logloss:0.394022\n",
      "The test log loss is: 0.3940218739081077\n"
     ]
    }
   ],
   "source": [
    "import xgboost as xgb\n",
    "params = {}\n",
    "params['objective'] = 'binary:logistic'\n",
    "params['eval_metric'] = 'logloss'\n",
    "params['eta'] = 0.02\n",
    "params['max_depth'] = 4\n",
    "\n",
    "d_train = xgb.DMatrix(X_train, label=y_train)\n",
    "d_test = xgb.DMatrix(X_test, label=y_test)\n",
    "\n",
    "watchlist = [(d_train, 'train'), (d_test, 'valid')]\n",
    "\n",
    "bst = xgb.train(params, d_train, 400, watchlist, early_stopping_rounds=20, verbose_eval=10)\n",
    "\n",
    "xgdmat = xgb.DMatrix(X_train,y_train)\n",
    "\n",
    "predict_y = bst.predict(d_train)\n",
    "log_loss_xgboost_train_default = log_loss(y_train, predict_y, labels=clf.classes_, eps=1e-15)\n",
    "\n",
    "predict_y = bst.predict(d_test)\n",
    "log_loss_xgboost_test_default = log_loss(y_test, predict_y, labels=clf.classes_, eps=1e-15)\n",
    "\n",
    "print(\"The test log loss is:\",log_loss(y_test, predict_y, labels=clf.classes_, eps=1e-15))"
   ]
  },
  {
   "cell_type": "code",
   "execution_count": 40,
   "metadata": {
    "colab": {},
    "colab_type": "code",
    "id": "6U5b17AatAS_",
    "outputId": "ca83b680-023b-4bc5-f499-8d8d85c2ff5e"
   },
   "outputs": [
    {
     "name": "stdout",
     "output_type": "stream",
     "text": [
      "Total number of data points : 30000\n"
     ]
    },
    {
     "data": {
      "image/png": "[encoded data removed]",
      "text/plain": [
       "<Figure size 1440x288 with 6 Axes>"
      ]
     },
     "metadata": {
      "needs_background": "light"
     },
     "output_type": "display_data"
    }
   ],
   "source": [
    "predicted_y =np.array(predict_y>0.5,dtype=int)\n",
    "print(\"Total number of data points :\", len(predicted_y))\n",
    "plot_confusion_matrix(y_test, predicted_y)"
   ]
  },
  {
   "cell_type": "markdown",
   "metadata": {
    "colab_type": "text",
    "id": "WmiIgHOJtATF"
   },
   "source": [
    "<h1> 5. Assignments </h1>"
   ]
  },
  {
   "cell_type": "markdown",
   "metadata": {},
   "source": [
    "1. Try out models (Logistic regression, Linear-SVM) with simple TF-IDF vectors instead of TD_IDF weighted word2Vec.\n"
   ]
  },
  {
   "cell_type": "markdown",
   "metadata": {},
   "source": [
    "Assignment 1 has been covered in another notebook TFIDF_ which has been submitted seperately."
   ]
  },
  {
   "cell_type": "markdown",
   "metadata": {
    "colab_type": "text",
    "id": "CWS6JoB0tATF"
   },
   "source": [
    "2. Hyperparameter tune XgBoost using RandomSearch to reduce the log-loss.\n"
   ]
  },
  {
   "cell_type": "code",
   "execution_count": 41,
   "metadata": {},
   "outputs": [],
   "source": [
    "import numpy as np"
   ]
  },
  {
   "cell_type": "code",
   "execution_count": 42,
   "metadata": {},
   "outputs": [],
   "source": [
    "hyperparameters = {'max_depth':[2,4,6,9,11],'n_estimators':[1, 5, 10, 50, 100],'learning_rate':list(np.arange(0.1,0.6,0.1))}\n"
   ]
  },
  {
   "cell_type": "code",
   "execution_count": 43,
   "metadata": {},
   "outputs": [],
   "source": [
    "#hyperparameters['objective'] = 'binary:logistic'\n",
    "#hyperparameters['eval_metric'] = 'logloss'"
   ]
  },
  {
   "cell_type": "code",
   "execution_count": 44,
   "metadata": {},
   "outputs": [
    {
     "data": {
      "text/plain": [
       "RandomizedSearchCV(cv=3, error_score=nan,\n",
       "                   estimator=XGBClassifier(base_score=0.5, booster='gbtree',\n",
       "                                           colsample_bylevel=1,\n",
       "                                           colsample_bynode=1,\n",
       "                                           colsample_bytree=1,\n",
       "                                           eval_metric='logloss', gamma=0,\n",
       "                                           learning_rate=0.1, max_delta_step=0,\n",
       "                                           max_depth=3, min_child_weight=1,\n",
       "                                           missing=None, n_estimators=100,\n",
       "                                           n_jobs=1, nthread=None,\n",
       "                                           objective='binary:logistic',\n",
       "                                           random_state=0, reg_a...\n",
       "                                           reg_lambda=1, scale_pos_weight=1,\n",
       "                                           seed=None, silent=None, subsample=1,\n",
       "                                           verbosity=1),\n",
       "                   iid='deprecated', n_iter=10, n_jobs=None,\n",
       "                   param_distributions={'learning_rate': [0.1, 0.2,\n",
       "                                                          0.30000000000000004,\n",
       "                                                          0.4, 0.5],\n",
       "                                        'max_depth': [2, 4, 6, 9, 11],\n",
       "                                        'n_estimators': [1, 5, 10, 50, 100]},\n",
       "                   pre_dispatch='2*n_jobs', random_state=30, refit=True,\n",
       "                   return_train_score=False, scoring='neg_log_loss', verbose=0)"
      ]
     },
     "execution_count": 44,
     "metadata": {},
     "output_type": "execute_result"
    }
   ],
   "source": [
    "from sklearn.model_selection import RandomizedSearchCV\n",
    "XGB_t2v = RandomizedSearchCV(xgb.XGBClassifier(objective='binary:logistic',eval_metric='logloss'),param_distributions=hyperparameters,scoring='neg_log_loss',cv=3,random_state=30)\n",
    "XGB_t2v.fit(X_train,y_train)"
   ]
  },
  {
   "cell_type": "code",
   "execution_count": 45,
   "metadata": {},
   "outputs": [
    {
     "name": "stdout",
     "output_type": "stream",
     "text": [
      "Optimal Depth :  9\n",
      "Optimal_estimators :  10\n",
      "Optimal Learning Rate :  0.30000000000000004\n"
     ]
    }
   ],
   "source": [
    "optimal_depth_XGB_t2v = XGB_t2v.best_params_['max_depth']\n",
    "optimal_estimators_XGB_t2v = XGB_t2v.best_params_['n_estimators']\n",
    "optimal_rate_XGB_t2v = XGB_t2v.best_params_['learning_rate']\n",
    "\n",
    "print('Optimal Depth : ',optimal_depth_XGB_t2v)\n",
    "print('Optimal_estimators : ',optimal_estimators_XGB_t2v)\n",
    "print('Optimal Learning Rate : ',optimal_rate_XGB_t2v)"
   ]
  },
  {
   "cell_type": "code",
   "execution_count": 46,
   "metadata": {},
   "outputs": [
    {
     "name": "stdout",
     "output_type": "stream",
     "text": [
      "[0]\ttrain-logloss:0.683627\tvalid-logloss:0.684369\n",
      "Multiple eval metrics have been passed: 'valid-logloss' will be used for early stopping.\n",
      "\n",
      "Will train until valid-logloss hasn't improved in 20 rounds.\n",
      "[10]\ttrain-logloss:0.604928\tvalid-logloss:0.612039\n",
      "[20]\ttrain-logloss:0.547412\tvalid-logloss:0.560283\n",
      "[30]\ttrain-logloss:0.503709\tvalid-logloss:0.521963\n",
      "[40]\ttrain-logloss:0.469603\tvalid-logloss:0.492679\n",
      "[50]\ttrain-logloss:0.442505\tvalid-logloss:0.469897\n",
      "[60]\ttrain-logloss:0.420659\tvalid-logloss:0.452116\n",
      "[70]\ttrain-logloss:0.402677\tvalid-logloss:0.438055\n",
      "[80]\ttrain-logloss:0.387541\tvalid-logloss:0.426457\n",
      "[90]\ttrain-logloss:0.37478\tvalid-logloss:0.417157\n",
      "[100]\ttrain-logloss:0.36432\tvalid-logloss:0.409684\n",
      "[110]\ttrain-logloss:0.355265\tvalid-logloss:0.403478\n",
      "[120]\ttrain-logloss:0.347433\tvalid-logloss:0.398335\n",
      "[130]\ttrain-logloss:0.340698\tvalid-logloss:0.394294\n",
      "[140]\ttrain-logloss:0.334647\tvalid-logloss:0.390958\n",
      "[150]\ttrain-logloss:0.329093\tvalid-logloss:0.388231\n",
      "[160]\ttrain-logloss:0.324316\tvalid-logloss:0.385853\n",
      "[170]\ttrain-logloss:0.319908\tvalid-logloss:0.383584\n",
      "[180]\ttrain-logloss:0.315847\tvalid-logloss:0.381614\n",
      "[190]\ttrain-logloss:0.312083\tvalid-logloss:0.380108\n",
      "[200]\ttrain-logloss:0.308437\tvalid-logloss:0.378902\n",
      "[210]\ttrain-logloss:0.304943\tvalid-logloss:0.377746\n",
      "[220]\ttrain-logloss:0.301644\tvalid-logloss:0.376715\n",
      "[230]\ttrain-logloss:0.298419\tvalid-logloss:0.375695\n",
      "[240]\ttrain-logloss:0.295267\tvalid-logloss:0.374851\n",
      "[250]\ttrain-logloss:0.292564\tvalid-logloss:0.374153\n",
      "[260]\ttrain-logloss:0.289668\tvalid-logloss:0.373387\n",
      "[270]\ttrain-logloss:0.287075\tvalid-logloss:0.372705\n",
      "[280]\ttrain-logloss:0.284747\tvalid-logloss:0.372092\n",
      "[290]\ttrain-logloss:0.282091\tvalid-logloss:0.371589\n",
      "[300]\ttrain-logloss:0.279152\tvalid-logloss:0.370972\n",
      "[310]\ttrain-logloss:0.276468\tvalid-logloss:0.370425\n",
      "[320]\ttrain-logloss:0.273543\tvalid-logloss:0.369976\n",
      "[330]\ttrain-logloss:0.27074\tvalid-logloss:0.369451\n",
      "[340]\ttrain-logloss:0.268196\tvalid-logloss:0.369012\n",
      "[350]\ttrain-logloss:0.265072\tvalid-logloss:0.368537\n",
      "[360]\ttrain-logloss:0.262413\tvalid-logloss:0.368116\n",
      "[370]\ttrain-logloss:0.258426\tvalid-logloss:0.367668\n",
      "[380]\ttrain-logloss:0.255355\tvalid-logloss:0.367279\n",
      "[390]\ttrain-logloss:0.252701\tvalid-logloss:0.366885\n",
      "[399]\ttrain-logloss:0.249734\tvalid-logloss:0.366588\n",
      "The test log loss is: 0.3665882118646754\n"
     ]
    }
   ],
   "source": [
    "params = {}\n",
    "params['objective'] = 'binary:logistic'\n",
    "params['eval_metric'] = 'logloss'\n",
    "params['eta'] = 0.02\n",
    "params['max_depth'] = optimal_depth_XGB_t2v\n",
    "\n",
    "d_train = xgb.DMatrix(X_train, label=y_train)\n",
    "d_test = xgb.DMatrix(X_test, label=y_test)\n",
    "\n",
    "watchlist = [(d_train, 'train'), (d_test, 'valid')]\n",
    "\n",
    "bst = xgb.train(params, d_train, 400, watchlist, early_stopping_rounds=20, verbose_eval=10)\n",
    "\n",
    "xgdmat = xgb.DMatrix(X_train,y_train)\n",
    "\n",
    "predict_y = bst.predict(d_train)\n",
    "log_loss_xgboost_train_tuned = log_loss(y_train, predict_y, labels=clf.classes_, eps=1e-15)\n",
    "\n",
    "predict_y = bst.predict(d_test)\n",
    "log_loss_xgboost_test_tuned = log_loss(y_test, predict_y, labels=clf.classes_, eps=1e-15)\n",
    "\n",
    "print(\"The test log loss is:\",log_loss(y_test, predict_y, labels=clf.classes_, eps=1e-15))"
   ]
  },
  {
   "cell_type": "code",
   "execution_count": 47,
   "metadata": {},
   "outputs": [
    {
     "name": "stdout",
     "output_type": "stream",
     "text": [
      "Total number of data points : 30000\n"
     ]
    },
    {
     "data": {
      "image/png": "[encoded data removed]",
      "text/plain": [
       "<Figure size 1440x288 with 6 Axes>"
      ]
     },
     "metadata": {
      "needs_background": "light"
     },
     "output_type": "display_data"
    }
   ],
   "source": [
    "predicted_y =np.array(predict_y>0.5,dtype=int)\n",
    "print(\"Total number of data points :\", len(predicted_y))\n",
    "plot_confusion_matrix(y_test, predicted_y)"
   ]
  },
  {
   "cell_type": "code",
   "execution_count": 48,
   "metadata": {},
   "outputs": [
    {
     "name": "stdout",
     "output_type": "stream",
     "text": [
      "+-----------------------+---------------------+---------------------+\n",
      "|         Model         |    Train log loss   |    Test log loss    |\n",
      "+-----------------------+---------------------+---------------------+\n",
      "|  Logistic Regression  | 0.48969361001930417 | 0.49632237103048543 |\n",
      "|          SVM          |  0.5230666572839103 |  0.5267478219658294 |\n",
      "|        XGBOOST        |  0.3809442799815808 |  0.3940218739081077 |\n",
      "| XGBOOST(after tuning) |  0.2497408913811835 |  0.3665882118646754 |\n",
      "+-----------------------+---------------------+---------------------+\n"
     ]
    }
   ],
   "source": [
    "from prettytable import PrettyTable\n",
    "x = PrettyTable()\n",
    "x.field_names = ['Model','Train log loss','Test log loss']\n",
    "x.add_row(['Logistic Regression',log_loss_train_lr,log_loss_test_lr])\n",
    "x.add_row(['SVM',log_loss_train_svm,log_loss_test_svm])\n",
    "x.add_row(['XGBOOST',log_loss_xgboost_train_default,log_loss_xgboost_test_default])\n",
    "x.add_row(['XGBOOST(after tuning)',log_loss_xgboost_train_tuned,log_loss_xgboost_test_tuned])\n",
    "\n",
    "print(x)"
   ]
  },
  {
   "cell_type": "code",
   "execution_count": 49,
   "metadata": {},
   "outputs": [],
   "source": [
    "#training XGBOOSt again but with max_depth as the only hyperparameter"
   ]
  },
  {
   "cell_type": "code",
   "execution_count": 50,
   "metadata": {},
   "outputs": [
    {
     "name": "stdout",
     "output_type": "stream",
     "text": [
      "Optimal Depth :  9\n",
      "[0]\ttrain-logloss:0.683627\tvalid-logloss:0.684369\n",
      "Multiple eval metrics have been passed: 'valid-logloss' will be used for early stopping.\n",
      "\n",
      "Will train until valid-logloss hasn't improved in 20 rounds.\n",
      "[10]\ttrain-logloss:0.604928\tvalid-logloss:0.612039\n",
      "[20]\ttrain-logloss:0.547412\tvalid-logloss:0.560283\n",
      "[30]\ttrain-logloss:0.503709\tvalid-logloss:0.521963\n",
      "[40]\ttrain-logloss:0.469603\tvalid-logloss:0.492679\n",
      "[50]\ttrain-logloss:0.442505\tvalid-logloss:0.469897\n",
      "[60]\ttrain-logloss:0.420659\tvalid-logloss:0.452116\n",
      "[70]\ttrain-logloss:0.402677\tvalid-logloss:0.438055\n",
      "[80]\ttrain-logloss:0.387541\tvalid-logloss:0.426457\n",
      "[90]\ttrain-logloss:0.37478\tvalid-logloss:0.417157\n",
      "[100]\ttrain-logloss:0.36432\tvalid-logloss:0.409684\n",
      "[110]\ttrain-logloss:0.355265\tvalid-logloss:0.403478\n",
      "[120]\ttrain-logloss:0.347433\tvalid-logloss:0.398335\n",
      "[130]\ttrain-logloss:0.340698\tvalid-logloss:0.394294\n",
      "[140]\ttrain-logloss:0.334647\tvalid-logloss:0.390958\n",
      "[150]\ttrain-logloss:0.329093\tvalid-logloss:0.388231\n",
      "[160]\ttrain-logloss:0.324316\tvalid-logloss:0.385853\n",
      "[170]\ttrain-logloss:0.319908\tvalid-logloss:0.383584\n",
      "[180]\ttrain-logloss:0.315847\tvalid-logloss:0.381614\n",
      "[190]\ttrain-logloss:0.312083\tvalid-logloss:0.380108\n",
      "[200]\ttrain-logloss:0.308437\tvalid-logloss:0.378902\n",
      "[210]\ttrain-logloss:0.304943\tvalid-logloss:0.377746\n",
      "[220]\ttrain-logloss:0.301644\tvalid-logloss:0.376715\n",
      "[230]\ttrain-logloss:0.298419\tvalid-logloss:0.375695\n",
      "[240]\ttrain-logloss:0.295267\tvalid-logloss:0.374851\n",
      "[250]\ttrain-logloss:0.292564\tvalid-logloss:0.374153\n",
      "[260]\ttrain-logloss:0.289668\tvalid-logloss:0.373387\n",
      "[270]\ttrain-logloss:0.287075\tvalid-logloss:0.372705\n",
      "[280]\ttrain-logloss:0.284747\tvalid-logloss:0.372092\n",
      "[290]\ttrain-logloss:0.282091\tvalid-logloss:0.371589\n",
      "[300]\ttrain-logloss:0.279152\tvalid-logloss:0.370972\n",
      "[310]\ttrain-logloss:0.276468\tvalid-logloss:0.370425\n",
      "[320]\ttrain-logloss:0.273543\tvalid-logloss:0.369976\n",
      "[330]\ttrain-logloss:0.27074\tvalid-logloss:0.369451\n",
      "[340]\ttrain-logloss:0.268196\tvalid-logloss:0.369012\n",
      "[350]\ttrain-logloss:0.265072\tvalid-logloss:0.368537\n",
      "[360]\ttrain-logloss:0.262413\tvalid-logloss:0.368116\n",
      "[370]\ttrain-logloss:0.258426\tvalid-logloss:0.367668\n",
      "[380]\ttrain-logloss:0.255355\tvalid-logloss:0.367279\n",
      "[390]\ttrain-logloss:0.252701\tvalid-logloss:0.366885\n",
      "[399]\ttrain-logloss:0.249734\tvalid-logloss:0.366588\n",
      "The test log loss is: 0.3665882118646754\n",
      "Total number of data points : 30000\n"
     ]
    },
    {
     "data": {
      "image/png": "[encoded data removed]",
      "text/plain": [
       "<Figure size 1440x288 with 6 Axes>"
      ]
     },
     "metadata": {
      "needs_background": "light"
     },
     "output_type": "display_data"
    }
   ],
   "source": [
    "hyperparameters = {'max_depth':[2,4,6,9,11]}\n",
    "\n",
    "\n",
    "#hyperparameters['objective'] = 'binary:logistic'\n",
    "#hyperparameters['eval_metric'] = 'logloss'\n",
    "\n",
    "from sklearn.model_selection import RandomizedSearchCV\n",
    "XGB_t2v = RandomizedSearchCV(xgb.XGBClassifier(objective='binary:logistic',eval_metric='logloss'),param_distributions=hyperparameters,scoring='neg_log_loss',cv=3,random_state=30)\n",
    "XGB_t2v.fit(X_train,y_train)\n",
    "\n",
    "optimal_depth_XGB_t2v = XGB_t2v.best_params_['max_depth']\n",
    "\n",
    "print('Optimal Depth : ',optimal_depth_XGB_t2v)\n",
    "\n",
    "\n",
    "params = {}\n",
    "params['objective'] = 'binary:logistic'\n",
    "params['eval_metric'] = 'logloss'\n",
    "params['eta'] = 0.02\n",
    "params['max_depth'] = optimal_depth_XGB_t2v\n",
    "\n",
    "d_train = xgb.DMatrix(X_train, label=y_train)\n",
    "d_test = xgb.DMatrix(X_test, label=y_test)\n",
    "\n",
    "watchlist = [(d_train, 'train'), (d_test, 'valid')]\n",
    "\n",
    "bst = xgb.train(params, d_train, 400, watchlist, early_stopping_rounds=20, verbose_eval=10)\n",
    "\n",
    "xgdmat = xgb.DMatrix(X_train,y_train)\n",
    "\n",
    "predict_y = bst.predict(d_train)\n",
    "log_loss_xgboost_train_tuned2 = log_loss(y_train, predict_y, labels=clf.classes_, eps=1e-15)\n",
    "\n",
    "predict_y = bst.predict(d_test)\n",
    "log_loss_xgboost_test_tuned2 = log_loss(y_test, predict_y, labels=clf.classes_, eps=1e-15)\n",
    "\n",
    "print(\"The test log loss is:\",log_loss(y_test, predict_y, labels=clf.classes_, eps=1e-15))\n",
    "\n",
    "predicted_y =np.array(predict_y>0.5,dtype=int)\n",
    "print(\"Total number of data points :\", len(predicted_y))\n",
    "plot_confusion_matrix(y_test, predicted_y)"
   ]
  },
  {
   "cell_type": "code",
   "execution_count": 51,
   "metadata": {},
   "outputs": [
    {
     "data": {
      "text/plain": [
       "0.2497408913811835"
      ]
     },
     "execution_count": 51,
     "metadata": {},
     "output_type": "execute_result"
    }
   ],
   "source": [
    "log_loss_xgboost_train_tuned2"
   ]
  },
  {
   "cell_type": "markdown",
   "metadata": {},
   "source": [
    "Got the same results again"
   ]
  },
  {
   "cell_type": "markdown",
   "metadata": {},
   "source": [
    "# Conclusion"
   ]
  },
  {
   "cell_type": "code",
   "execution_count": 52,
   "metadata": {},
   "outputs": [
    {
     "name": "stdout",
     "output_type": "stream",
     "text": [
      "+------------------------------------------------------------+---------------------+---------------------+\n",
      "|                           Model                            |    Train log loss   |    Test log loss    |\n",
      "+------------------------------------------------------------+---------------------+---------------------+\n",
      "|                    Logistic Regression                     | 0.48969361001930417 | 0.49632237103048543 |\n",
      "|                            SVM                             |  0.5230666572839103 |  0.5267478219658294 |\n",
      "|                          XGBOOST                           |  0.3809442799815808 |  0.3940218739081077 |\n",
      "| XGBOOST(tuned with max_depth,n_estimators & learning_rate) |  0.2497408913811835 |  0.3665882118646754 |\n",
      "|               XGBOOST(tuned with max_depth)                |  0.2497408913811835 |  0.3665882118646754 |\n",
      "+------------------------------------------------------------+---------------------+---------------------+\n"
     ]
    }
   ],
   "source": [
    "from prettytable import PrettyTable\n",
    "x = PrettyTable()\n",
    "x.field_names = ['Model','Train log loss','Test log loss']\n",
    "x.add_row(['Logistic Regression',log_loss_train_lr,log_loss_test_lr])\n",
    "x.add_row(['SVM',log_loss_train_svm,log_loss_test_svm])\n",
    "x.add_row(['XGBOOST',log_loss_xgboost_train_default,log_loss_xgboost_test_default])\n",
    "x.add_row(['XGBOOST(tuned with max_depth,n_estimators & learning_rate)',log_loss_xgboost_train_tuned,log_loss_xgboost_test_tuned])\n",
    "x.add_row(['XGBOOST(tuned with max_depth)',log_loss_xgboost_train_tuned2,log_loss_xgboost_test_tuned2])\n",
    "\n",
    "print(x)"
   ]
  },
  {
   "cell_type": "markdown",
   "metadata": {},
   "source": [
    "All the models have been trained with 100k rows of data and 221 fetaures"
   ]
  },
  {
   "cell_type": "markdown",
   "metadata": {},
   "source": [
    "XGBOOST is working the best for this data if seen from log_loss angle of both train and test unit"
   ]
  }
 ],
 "metadata": {
  "colab": {
   "name": "4.ML_models.ipynb",
   "provenance": [],
   "version": "0.3.2"
  },
  "kernelspec": {
   "display_name": "Python 3",
   "language": "python",
   "name": "python3"
  },
  "language_info": {
   "codemirror_mode": {
    "name": "ipython",
    "version": 3
   },
   "file_extension": ".py",
   "mimetype": "text/x-python",
   "name": "python",
   "nbconvert_exporter": "python",
   "pygments_lexer": "ipython3",
   "version": "3.7.4"
  }
 },
 "nbformat": 4,
 "nbformat_minor": 1
}
